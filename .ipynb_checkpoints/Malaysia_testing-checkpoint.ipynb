{
 "cells": [
  {
   "cell_type": "code",
   "execution_count": 1,
   "id": "e9a10268",
   "metadata": {},
   "outputs": [],
   "source": [
    "import pandas as pd"
   ]
  },
  {
   "cell_type": "code",
   "execution_count": 5,
   "id": "e8713313",
   "metadata": {},
   "outputs": [],
   "source": [
    "malaysia_data = '/home/lionel/Desktop/Malaysia_Crop/training.csv'"
   ]
  },
  {
   "cell_type": "code",
   "execution_count": 6,
   "id": "fc3bf448",
   "metadata": {},
   "outputs": [],
   "source": [
    "malaysia= pd.read_csv(malaysia_data)"
   ]
  },
  {
   "cell_type": "code",
   "execution_count": 7,
   "id": "a10686b4",
   "metadata": {},
   "outputs": [
    {
     "data": {
      "text/html": [
       "<div>\n",
       "<style scoped>\n",
       "    .dataframe tbody tr th:only-of-type {\n",
       "        vertical-align: middle;\n",
       "    }\n",
       "\n",
       "    .dataframe tbody tr th {\n",
       "        vertical-align: top;\n",
       "    }\n",
       "\n",
       "    .dataframe thead th {\n",
       "        text-align: right;\n",
       "    }\n",
       "</style>\n",
       "<table border=\"1\" class=\"dataframe\">\n",
       "  <thead>\n",
       "    <tr style=\"text-align: right;\">\n",
       "      <th></th>\n",
       "      <th>B1</th>\n",
       "      <th>B10</th>\n",
       "      <th>B11</th>\n",
       "      <th>B2</th>\n",
       "      <th>B3</th>\n",
       "      <th>B4</th>\n",
       "      <th>B5</th>\n",
       "      <th>B6</th>\n",
       "      <th>B7</th>\n",
       "      <th>landcover</th>\n",
       "    </tr>\n",
       "  </thead>\n",
       "  <tbody>\n",
       "    <tr>\n",
       "      <th>0</th>\n",
       "      <td>0.122302</td>\n",
       "      <td>294.31340</td>\n",
       "      <td>289.91718</td>\n",
       "      <td>0.096028</td>\n",
       "      <td>0.073693</td>\n",
       "      <td>0.050018</td>\n",
       "      <td>0.326577</td>\n",
       "      <td>0.158818</td>\n",
       "      <td>0.064839</td>\n",
       "      <td>0</td>\n",
       "    </tr>\n",
       "    <tr>\n",
       "      <th>1</th>\n",
       "      <td>0.127584</td>\n",
       "      <td>294.92730</td>\n",
       "      <td>290.86554</td>\n",
       "      <td>0.100121</td>\n",
       "      <td>0.085449</td>\n",
       "      <td>0.055149</td>\n",
       "      <td>0.380837</td>\n",
       "      <td>0.175744</td>\n",
       "      <td>0.068880</td>\n",
       "      <td>0</td>\n",
       "    </tr>\n",
       "    <tr>\n",
       "      <th>2</th>\n",
       "      <td>0.123550</td>\n",
       "      <td>294.46100</td>\n",
       "      <td>290.24756</td>\n",
       "      <td>0.095798</td>\n",
       "      <td>0.072986</td>\n",
       "      <td>0.047406</td>\n",
       "      <td>0.343034</td>\n",
       "      <td>0.144637</td>\n",
       "      <td>0.054489</td>\n",
       "      <td>0</td>\n",
       "    </tr>\n",
       "    <tr>\n",
       "      <th>3</th>\n",
       "      <td>0.120793</td>\n",
       "      <td>294.50427</td>\n",
       "      <td>290.22095</td>\n",
       "      <td>0.093911</td>\n",
       "      <td>0.072469</td>\n",
       "      <td>0.047838</td>\n",
       "      <td>0.332497</td>\n",
       "      <td>0.156121</td>\n",
       "      <td>0.061805</td>\n",
       "      <td>0</td>\n",
       "    </tr>\n",
       "    <tr>\n",
       "      <th>4</th>\n",
       "      <td>0.121784</td>\n",
       "      <td>294.69790</td>\n",
       "      <td>290.72357</td>\n",
       "      <td>0.095399</td>\n",
       "      <td>0.077658</td>\n",
       "      <td>0.058008</td>\n",
       "      <td>0.313814</td>\n",
       "      <td>0.165054</td>\n",
       "      <td>0.072416</td>\n",
       "      <td>0</td>\n",
       "    </tr>\n",
       "    <tr>\n",
       "      <th>...</th>\n",
       "      <td>...</td>\n",
       "      <td>...</td>\n",
       "      <td>...</td>\n",
       "      <td>...</td>\n",
       "      <td>...</td>\n",
       "      <td>...</td>\n",
       "      <td>...</td>\n",
       "      <td>...</td>\n",
       "      <td>...</td>\n",
       "      <td>...</td>\n",
       "    </tr>\n",
       "    <tr>\n",
       "      <th>895</th>\n",
       "      <td>0.122860</td>\n",
       "      <td>293.54147</td>\n",
       "      <td>290.26090</td>\n",
       "      <td>0.094873</td>\n",
       "      <td>0.071106</td>\n",
       "      <td>0.046625</td>\n",
       "      <td>0.228866</td>\n",
       "      <td>0.092151</td>\n",
       "      <td>0.035600</td>\n",
       "      <td>2</td>\n",
       "    </tr>\n",
       "    <tr>\n",
       "      <th>896</th>\n",
       "      <td>0.121997</td>\n",
       "      <td>294.28840</td>\n",
       "      <td>290.80835</td>\n",
       "      <td>0.095755</td>\n",
       "      <td>0.073869</td>\n",
       "      <td>0.046539</td>\n",
       "      <td>0.300292</td>\n",
       "      <td>0.112775</td>\n",
       "      <td>0.040009</td>\n",
       "      <td>2</td>\n",
       "    </tr>\n",
       "    <tr>\n",
       "      <th>897</th>\n",
       "      <td>0.123566</td>\n",
       "      <td>294.26250</td>\n",
       "      <td>290.84640</td>\n",
       "      <td>0.096999</td>\n",
       "      <td>0.079119</td>\n",
       "      <td>0.050053</td>\n",
       "      <td>0.372115</td>\n",
       "      <td>0.149145</td>\n",
       "      <td>0.053075</td>\n",
       "      <td>2</td>\n",
       "    </tr>\n",
       "    <tr>\n",
       "      <th>898</th>\n",
       "      <td>0.127154</td>\n",
       "      <td>294.06055</td>\n",
       "      <td>290.47083</td>\n",
       "      <td>0.099558</td>\n",
       "      <td>0.079632</td>\n",
       "      <td>0.050697</td>\n",
       "      <td>0.362246</td>\n",
       "      <td>0.141896</td>\n",
       "      <td>0.050883</td>\n",
       "      <td>2</td>\n",
       "    </tr>\n",
       "    <tr>\n",
       "      <th>899</th>\n",
       "      <td>0.127154</td>\n",
       "      <td>294.06055</td>\n",
       "      <td>290.47083</td>\n",
       "      <td>0.099558</td>\n",
       "      <td>0.079632</td>\n",
       "      <td>0.050697</td>\n",
       "      <td>0.362246</td>\n",
       "      <td>0.141896</td>\n",
       "      <td>0.050883</td>\n",
       "      <td>2</td>\n",
       "    </tr>\n",
       "  </tbody>\n",
       "</table>\n",
       "<p>900 rows × 10 columns</p>\n",
       "</div>"
      ],
      "text/plain": [
       "           B1        B10        B11        B2        B3        B4        B5  \\\n",
       "0    0.122302  294.31340  289.91718  0.096028  0.073693  0.050018  0.326577   \n",
       "1    0.127584  294.92730  290.86554  0.100121  0.085449  0.055149  0.380837   \n",
       "2    0.123550  294.46100  290.24756  0.095798  0.072986  0.047406  0.343034   \n",
       "3    0.120793  294.50427  290.22095  0.093911  0.072469  0.047838  0.332497   \n",
       "4    0.121784  294.69790  290.72357  0.095399  0.077658  0.058008  0.313814   \n",
       "..        ...        ...        ...       ...       ...       ...       ...   \n",
       "895  0.122860  293.54147  290.26090  0.094873  0.071106  0.046625  0.228866   \n",
       "896  0.121997  294.28840  290.80835  0.095755  0.073869  0.046539  0.300292   \n",
       "897  0.123566  294.26250  290.84640  0.096999  0.079119  0.050053  0.372115   \n",
       "898  0.127154  294.06055  290.47083  0.099558  0.079632  0.050697  0.362246   \n",
       "899  0.127154  294.06055  290.47083  0.099558  0.079632  0.050697  0.362246   \n",
       "\n",
       "           B6        B7  landcover  \n",
       "0    0.158818  0.064839          0  \n",
       "1    0.175744  0.068880          0  \n",
       "2    0.144637  0.054489          0  \n",
       "3    0.156121  0.061805          0  \n",
       "4    0.165054  0.072416          0  \n",
       "..        ...       ...        ...  \n",
       "895  0.092151  0.035600          2  \n",
       "896  0.112775  0.040009          2  \n",
       "897  0.149145  0.053075          2  \n",
       "898  0.141896  0.050883          2  \n",
       "899  0.141896  0.050883          2  \n",
       "\n",
       "[900 rows x 10 columns]"
      ]
     },
     "execution_count": 7,
     "metadata": {},
     "output_type": "execute_result"
    }
   ],
   "source": [
    "malaysia"
   ]
  },
  {
   "cell_type": "code",
   "execution_count": 8,
   "id": "78917539",
   "metadata": {},
   "outputs": [
    {
     "data": {
      "text/html": [
       "<div>\n",
       "<style scoped>\n",
       "    .dataframe tbody tr th:only-of-type {\n",
       "        vertical-align: middle;\n",
       "    }\n",
       "\n",
       "    .dataframe tbody tr th {\n",
       "        vertical-align: top;\n",
       "    }\n",
       "\n",
       "    .dataframe thead th {\n",
       "        text-align: right;\n",
       "    }\n",
       "</style>\n",
       "<table border=\"1\" class=\"dataframe\">\n",
       "  <thead>\n",
       "    <tr style=\"text-align: right;\">\n",
       "      <th></th>\n",
       "      <th>B1</th>\n",
       "      <th>B10</th>\n",
       "      <th>B11</th>\n",
       "      <th>B2</th>\n",
       "      <th>B3</th>\n",
       "      <th>B4</th>\n",
       "      <th>B5</th>\n",
       "      <th>B6</th>\n",
       "      <th>B7</th>\n",
       "      <th>landcover</th>\n",
       "    </tr>\n",
       "  </thead>\n",
       "  <tbody>\n",
       "    <tr>\n",
       "      <th>0</th>\n",
       "      <td>0.122302</td>\n",
       "      <td>294.31340</td>\n",
       "      <td>289.91718</td>\n",
       "      <td>0.096028</td>\n",
       "      <td>0.073693</td>\n",
       "      <td>0.050018</td>\n",
       "      <td>0.326577</td>\n",
       "      <td>0.158818</td>\n",
       "      <td>0.064839</td>\n",
       "      <td>0</td>\n",
       "    </tr>\n",
       "    <tr>\n",
       "      <th>1</th>\n",
       "      <td>0.127584</td>\n",
       "      <td>294.92730</td>\n",
       "      <td>290.86554</td>\n",
       "      <td>0.100121</td>\n",
       "      <td>0.085449</td>\n",
       "      <td>0.055149</td>\n",
       "      <td>0.380837</td>\n",
       "      <td>0.175744</td>\n",
       "      <td>0.068880</td>\n",
       "      <td>0</td>\n",
       "    </tr>\n",
       "    <tr>\n",
       "      <th>2</th>\n",
       "      <td>0.123550</td>\n",
       "      <td>294.46100</td>\n",
       "      <td>290.24756</td>\n",
       "      <td>0.095798</td>\n",
       "      <td>0.072986</td>\n",
       "      <td>0.047406</td>\n",
       "      <td>0.343034</td>\n",
       "      <td>0.144637</td>\n",
       "      <td>0.054489</td>\n",
       "      <td>0</td>\n",
       "    </tr>\n",
       "    <tr>\n",
       "      <th>3</th>\n",
       "      <td>0.120793</td>\n",
       "      <td>294.50427</td>\n",
       "      <td>290.22095</td>\n",
       "      <td>0.093911</td>\n",
       "      <td>0.072469</td>\n",
       "      <td>0.047838</td>\n",
       "      <td>0.332497</td>\n",
       "      <td>0.156121</td>\n",
       "      <td>0.061805</td>\n",
       "      <td>0</td>\n",
       "    </tr>\n",
       "    <tr>\n",
       "      <th>4</th>\n",
       "      <td>0.121784</td>\n",
       "      <td>294.69790</td>\n",
       "      <td>290.72357</td>\n",
       "      <td>0.095399</td>\n",
       "      <td>0.077658</td>\n",
       "      <td>0.058008</td>\n",
       "      <td>0.313814</td>\n",
       "      <td>0.165054</td>\n",
       "      <td>0.072416</td>\n",
       "      <td>0</td>\n",
       "    </tr>\n",
       "  </tbody>\n",
       "</table>\n",
       "</div>"
      ],
      "text/plain": [
       "         B1        B10        B11        B2        B3        B4        B5  \\\n",
       "0  0.122302  294.31340  289.91718  0.096028  0.073693  0.050018  0.326577   \n",
       "1  0.127584  294.92730  290.86554  0.100121  0.085449  0.055149  0.380837   \n",
       "2  0.123550  294.46100  290.24756  0.095798  0.072986  0.047406  0.343034   \n",
       "3  0.120793  294.50427  290.22095  0.093911  0.072469  0.047838  0.332497   \n",
       "4  0.121784  294.69790  290.72357  0.095399  0.077658  0.058008  0.313814   \n",
       "\n",
       "         B6        B7  landcover  \n",
       "0  0.158818  0.064839          0  \n",
       "1  0.175744  0.068880          0  \n",
       "2  0.144637  0.054489          0  \n",
       "3  0.156121  0.061805          0  \n",
       "4  0.165054  0.072416          0  "
      ]
     },
     "execution_count": 8,
     "metadata": {},
     "output_type": "execute_result"
    }
   ],
   "source": [
    "malaysia.head()"
   ]
  },
  {
   "cell_type": "code",
   "execution_count": 9,
   "id": "19fca1e8",
   "metadata": {},
   "outputs": [],
   "source": [
    "pd.plotting.register_matplotlib_converters()\n",
    "import matplotlib.pyplot as plt\n",
    "%matplotlib inline\n",
    "import seaborn as sns"
   ]
  },
  {
   "cell_type": "code",
   "execution_count": null,
   "id": "52a1181e",
   "metadata": {},
   "outputs": [],
   "source": []
  },
  {
   "cell_type": "code",
   "execution_count": 10,
   "id": "d29f94a9",
   "metadata": {},
   "outputs": [],
   "source": [
    "# import package\n",
    "import ee\n",
    "import geemap\n",
    "from geemap import ml # note new module within geemap\n",
    "\n",
    "import pandas as pd\n",
    "from sklearn import ensemble"
   ]
  },
  {
   "cell_type": "code",
   "execution_count": 11,
   "id": "515a09f3",
   "metadata": {},
   "outputs": [],
   "source": [
    "geemap.ee_initialize()"
   ]
  },
  {
   "cell_type": "code",
   "execution_count": null,
   "id": "ca577bcf",
   "metadata": {},
   "outputs": [],
   "source": []
  },
  {
   "cell_type": "code",
   "execution_count": 12,
   "id": "8bd20553",
   "metadata": {},
   "outputs": [],
   "source": [
    "feature_names = ['B1','B10','B11', 'B2', 'B3','B4', 'B5', 'B6', 'B7']\n",
    "label = \"landcover\""
   ]
  },
  {
   "cell_type": "code",
   "execution_count": 13,
   "id": "6f77f7bc",
   "metadata": {},
   "outputs": [],
   "source": [
    "# get the features and labels into seperate variables\n",
    "X = malaysia[feature_names]\n",
    "y = malaysia[label]"
   ]
  },
  {
   "cell_type": "code",
   "execution_count": 17,
   "id": "ae03293b",
   "metadata": {},
   "outputs": [],
   "source": [
    "n_trees = 100\n",
    "rf = rf = ensemble.RandomForestClassifier(100).fit(X,y)"
   ]
  },
  {
   "cell_type": "code",
   "execution_count": 18,
   "id": "5e89e225",
   "metadata": {},
   "outputs": [],
   "source": [
    "# convert the estimator into a list of strings\n",
    "# this function also works with the ensemble.ExtraTrees estimator\n",
    "trees =  ml.rf_to_strings(rf,feature_names)"
   ]
  },
  {
   "cell_type": "code",
   "execution_count": 19,
   "id": "62a6c334",
   "metadata": {},
   "outputs": [
    {
     "name": "stdout",
     "output_type": "stream",
     "text": [
      "1) root 539 9999 9999 (2.04330423596095)\n",
      "  2) B1 <= 0.129961 539 0.6661 2.000000\n",
      "    4) B10 <= 294.282471 353 0.4979 2.000000\n",
      "      8) B2 <= 0.100338 194 0.0664 2.000000\n",
      "        16) B1 <= 0.120417 1 0.0000 0.000000 *\n",
      "        17) B1 > 0.120417 189 0.0000 2.000000 *\n",
      "      9) B2 > 0.100338 4 0.0000 0.000000 *\n",
      "    5) B10 > 294.282471 353 0.4979 2.000000\n",
      "      10) B2 <= 0.097142 101 0.0000 0.000000 *\n",
      "      11) B2 > 0.097142 159 0.0150 0.000000\n",
      "        22) B2 <= 0.097179 1 0.0000 2.000000 *\n",
      "        23) B2 > 0.097179 58 0.0412 0.000000\n",
      "          46) B5 <= 0.394987 51 0.0000 0.000000 *\n",
      "          47) B5 > 0.394987 57 0.0211 0.000000\n",
      "            94) B10 <= 294.636673 1 0.0000 2.000000 *\n",
      "            95) B10 > 294.636673 5 0.0000 0.000000 *\n",
      "  3) B1 > 0.129961 539 0.6661 2.000000\n",
      "    6) B7 <= 0.066301 171 0.0000 1.000000 *\n",
      "    7) B7 > 0.066301 186 0.0553 1.000000\n",
      "      14) B11 <= 291.860062 7 0.0000 0.000000 *\n",
      "      15) B11 > 291.860062 8 0.0000 1.000000 *\n",
      "\n"
     ]
    }
   ],
   "source": [
    "# print the first tree to see the result\n",
    "print(trees[0])"
   ]
  },
  {
   "cell_type": "code",
   "execution_count": 20,
   "id": "6ab91c1e",
   "metadata": {},
   "outputs": [
    {
     "data": {
      "text/plain": [
       "True"
      ]
     },
     "execution_count": 20,
     "metadata": {},
     "output_type": "execute_result"
    }
   ],
   "source": [
    "len(trees) == n_trees"
   ]
  },
  {
   "cell_type": "code",
   "execution_count": 21,
   "id": "620bdf90",
   "metadata": {},
   "outputs": [],
   "source": [
    "# create a ee classifier to use with ee objects from the trees\n",
    "ee_classifier = ml.strings_to_classifier(trees)"
   ]
  },
  {
   "cell_type": "code",
   "execution_count": 22,
   "id": "5e0ed9a6",
   "metadata": {},
   "outputs": [],
   "source": [
    "# Make a cloud-free Landsat 8 TOA composite (from raw imagery).\n",
    "l8 = ee.ImageCollection('LANDSAT/LC08/C01/T1');\n",
    "\n",
    "image = ee.Algorithms.Landsat.simpleComposite(\n",
    "  collection= l8.filterDate('2018-01-01', '2020-12-31'),\n",
    "  asFloat= True\n",
    ")"
   ]
  },
  {
   "cell_type": "code",
   "execution_count": 23,
   "id": "9db81c5e",
   "metadata": {},
   "outputs": [],
   "source": [
    "#classify the image using the classifier we created from the local training\n",
    "# note: here we select the feature_names from the image that way the classifier knows which bands to use\n",
    "classified = image.select(feature_names).classify(ee_classifier)"
   ]
  },
  {
   "cell_type": "code",
   "execution_count": 24,
   "id": "514db822",
   "metadata": {
    "scrolled": true
   },
   "outputs": [
    {
     "data": {
      "application/vnd.jupyter.widget-view+json": {
       "model_id": "71a035d9e6ec4495bb2db99f3b94d80c",
       "version_major": 2,
       "version_minor": 0
      },
      "text/plain": [
       "Map(center=[40, -100], controls=(WidgetControl(options=['position', 'transparent_bg'], widget=HBox(children=(T…"
      ]
     },
     "metadata": {},
     "output_type": "display_data"
    }
   ],
   "source": [
    "# display results\n",
    "Map = geemap.Map()\n",
    "Map.addLayer(image,{\"bands\": ['B1', 'B10', 'B11'], \"min\":0.05, \"max\": 0.55, \"gamma\":1.5}, 'image')\n",
    "Map.addLayer(classified, {\"min\": 0, \"max\": 2, \"palette\": ['red', 'green', 'blue']},'classification')\n",
    "\n",
    "Map"
   ]
  },
  {
   "cell_type": "code",
   "execution_count": null,
   "id": "05e547fd",
   "metadata": {},
   "outputs": [],
   "source": []
  }
 ],
 "metadata": {
  "kernelspec": {
   "display_name": "Python 3 (ipykernel)",
   "language": "python",
   "name": "python3"
  },
  "language_info": {
   "codemirror_mode": {
    "name": "ipython",
    "version": 3
   },
   "file_extension": ".py",
   "mimetype": "text/x-python",
   "name": "python",
   "nbconvert_exporter": "python",
   "pygments_lexer": "ipython3",
   "version": "3.8.2"
  }
 },
 "nbformat": 4,
 "nbformat_minor": 5
}
